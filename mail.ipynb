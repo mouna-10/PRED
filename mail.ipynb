{
 "cells": [
  {
   "cell_type": "code",
   "execution_count": 1,
   "metadata": {},
   "outputs": [
    {
     "ename": "",
     "evalue": "",
     "output_type": "error",
     "traceback": [
      "\u001b[1;31mLe Kernel s’est bloqué lors de l’exécution du code dans la cellule active ou une cellule précédente. Veuillez vérifier le code dans la ou les cellules pour identifier une cause possible de l’échec. Cliquez <a href='https://aka.ms/vscodeJupyterKernelCrash'>ici</a> pour plus d’informations. Pour plus d’informations, consultez Jupyter <a href='command:jupyter.viewOutput'>log</a>."
     ]
    }
   ],
   "source": [
    "import pandas as pd\n",
    "import os\n",
    "import email\n",
    "import tensorflow_hub as hub\n",
    "# import tensorflow_text as text"
   ]
  },
  {
   "cell_type": "code",
   "execution_count": 107,
   "metadata": {},
   "outputs": [],
   "source": [
    "path = \"data/archives-EGC/\"\n",
    "\n",
    "email_paths = []\n",
    "for root, dirs, files in os.walk(path):\n",
    "    for file in files:\n",
    "        if not file.startswith('.'):\n",
    "            email_path = os.path.join(root, file)\n",
    "            email_paths.append(email_path)\n",
    "\n",
    "def get_email(email_path):\n",
    "    with open(email_path, \"r\", encoding = \"ISO-8859-1\") as mail:\n",
    "        email_content = mail.read()\n",
    "        return email_content"
   ]
  },
  {
   "cell_type": "markdown",
   "metadata": {},
   "source": [
    "Lire tous les 10819 emails et vois si erreur lors des lectures"
   ]
  },
  {
   "cell_type": "code",
   "execution_count": 108,
   "metadata": {},
   "outputs": [
    {
     "ename": "TypeError",
     "evalue": "decode() argument 'encoding' must be str, not None",
     "output_type": "error",
     "traceback": [
      "\u001b[0;31m---------------------------------------------------------------------------\u001b[0m",
      "\u001b[0;31mTypeError\u001b[0m                                 Traceback (most recent call last)",
      "\u001b[1;32m/Users/djedjakamara/Library/Mobile Documents/com~apple~CloudDocs/1. School/nantes/Cours/IDIA5/Semestre 9/Projet R&D/dev/mail.ipynb Cellule 4\u001b[0m line \u001b[0;36m1\n\u001b[1;32m     <a href='vscode-notebook-cell:/Users/djedjakamara/Library/Mobile%20Documents/com~apple~CloudDocs/1.%20School/nantes/Cours/IDIA5/Semestre%209/Projet%20R%26D/dev/mail.ipynb#X34sZmlsZQ%3D%3D?line=10'>11</a>\u001b[0m                 \u001b[39mall\u001b[39m\u001b[39m.\u001b[39mappend(body)\n\u001b[1;32m     <a href='vscode-notebook-cell:/Users/djedjakamara/Library/Mobile%20Documents/com~apple~CloudDocs/1.%20School/nantes/Cours/IDIA5/Semestre%209/Projet%20R%26D/dev/mail.ipynb#X34sZmlsZQ%3D%3D?line=11'>12</a>\u001b[0m     \u001b[39mreturn\u001b[39;00m \u001b[39mall\u001b[39m\n\u001b[0;32m---> <a href='vscode-notebook-cell:/Users/djedjakamara/Library/Mobile%20Documents/com~apple~CloudDocs/1.%20School/nantes/Cours/IDIA5/Semestre%209/Projet%20R%26D/dev/mail.ipynb#X34sZmlsZQ%3D%3D?line=12'>13</a>\u001b[0m \u001b[39mall\u001b[39m \u001b[39m=\u001b[39m read_all()\n\u001b[1;32m     <a href='vscode-notebook-cell:/Users/djedjakamara/Library/Mobile%20Documents/com~apple~CloudDocs/1.%20School/nantes/Cours/IDIA5/Semestre%209/Projet%20R%26D/dev/mail.ipynb#X34sZmlsZQ%3D%3D?line=13'>14</a>\u001b[0m \u001b[39mlen\u001b[39m(\u001b[39mall\u001b[39m)\n",
      "\u001b[1;32m/Users/djedjakamara/Library/Mobile Documents/com~apple~CloudDocs/1. School/nantes/Cours/IDIA5/Semestre 9/Projet R&D/dev/mail.ipynb Cellule 4\u001b[0m line \u001b[0;36m9\n\u001b[1;32m      <a href='vscode-notebook-cell:/Users/djedjakamara/Library/Mobile%20Documents/com~apple~CloudDocs/1.%20School/nantes/Cours/IDIA5/Semestre%209/Projet%20R%26D/dev/mail.ipynb#X34sZmlsZQ%3D%3D?line=5'>6</a>\u001b[0m \u001b[39mfor\u001b[39;00m part \u001b[39min\u001b[39;00m msg\u001b[39m.\u001b[39mwalk():\n\u001b[1;32m      <a href='vscode-notebook-cell:/Users/djedjakamara/Library/Mobile%20Documents/com~apple~CloudDocs/1.%20School/nantes/Cours/IDIA5/Semestre%209/Projet%20R%26D/dev/mail.ipynb#X34sZmlsZQ%3D%3D?line=6'>7</a>\u001b[0m     \u001b[39mif\u001b[39;00m part\u001b[39m.\u001b[39mget_content_type() \u001b[39m==\u001b[39m \u001b[39m\"\u001b[39m\u001b[39mtext/plain\u001b[39m\u001b[39m\"\u001b[39m:\n\u001b[1;32m      <a href='vscode-notebook-cell:/Users/djedjakamara/Library/Mobile%20Documents/com~apple~CloudDocs/1.%20School/nantes/Cours/IDIA5/Semestre%209/Projet%20R%26D/dev/mail.ipynb#X34sZmlsZQ%3D%3D?line=7'>8</a>\u001b[0m     \u001b[39m# Récupération du corps du message\u001b[39;00m\n\u001b[0;32m----> <a href='vscode-notebook-cell:/Users/djedjakamara/Library/Mobile%20Documents/com~apple~CloudDocs/1.%20School/nantes/Cours/IDIA5/Semestre%209/Projet%20R%26D/dev/mail.ipynb#X34sZmlsZQ%3D%3D?line=8'>9</a>\u001b[0m         body \u001b[39m=\u001b[39m part\u001b[39m.\u001b[39mget_payload(decode\u001b[39m=\u001b[39m\u001b[39mTrue\u001b[39;00m)\u001b[39m.\u001b[39mdecode(part\u001b[39m.\u001b[39mget_content_charset())\n\u001b[1;32m     <a href='vscode-notebook-cell:/Users/djedjakamara/Library/Mobile%20Documents/com~apple~CloudDocs/1.%20School/nantes/Cours/IDIA5/Semestre%209/Projet%20R%26D/dev/mail.ipynb#X34sZmlsZQ%3D%3D?line=9'>10</a>\u001b[0m         \u001b[39m# body = part.get_payload(decode=True).decode('iso-8859-1')\u001b[39;00m\n\u001b[1;32m     <a href='vscode-notebook-cell:/Users/djedjakamara/Library/Mobile%20Documents/com~apple~CloudDocs/1.%20School/nantes/Cours/IDIA5/Semestre%209/Projet%20R%26D/dev/mail.ipynb#X34sZmlsZQ%3D%3D?line=10'>11</a>\u001b[0m         \u001b[39mall\u001b[39m\u001b[39m.\u001b[39mappend(body)\n",
      "\u001b[0;31mTypeError\u001b[0m: decode() argument 'encoding' must be str, not None"
     ]
    }
   ],
   "source": [
    "def read_all():\n",
    "    all = []\n",
    "    for i in range(len(email_paths)):\n",
    "        msg = get_email(email_paths[i])\n",
    "        msg = email.message_from_string(msg)\n",
    "        for part in msg.walk():\n",
    "            if part.get_content_type() == \"text/plain\":\n",
    "            # Récupération du corps du message\n",
    "                body = part.get_payload(decode=True).decode(part.get_content_charset())\n",
    "                # body = part.get_payload(decode=True).decode('iso-8859-1')\n",
    "                all.append(body)\n",
    "    return all\n",
    "all = read_all()\n",
    "len(all)"
   ]
  },
  {
   "cell_type": "code",
   "execution_count": 100,
   "metadata": {},
   "outputs": [
    {
     "name": "stdout",
     "output_type": "stream",
     "text": [
      "None\n"
     ]
    }
   ],
   "source": [
    "#TODO lire encodage et lire fichier avec bon encodage\n"
   ]
  },
  {
   "cell_type": "code",
   "execution_count": 109,
   "metadata": {},
   "outputs": [
    {
     "name": "stdout",
     "output_type": "stream",
     "text": [
      "\n"
     ]
    }
   ],
   "source": [
    "msg = get_email(email_paths[1])\n",
    "msg = email.message_from_string(msg)\n",
    "for part in msg.walk():\n",
    "    if part.get_content_type() == \"text/plain\":\n",
    "    # Récupération du corps du message\n",
    "        print(part.get_payload(decode=True).decode(part.get_content_charset()))"
   ]
  },
  {
   "cell_type": "code",
   "execution_count": 110,
   "metadata": {},
   "outputs": [
    {
     "data": {
      "text/plain": [
       "b'n\\r\\n0000059'"
      ]
     },
     "execution_count": 110,
     "metadata": {},
     "output_type": "execute_result"
    }
   ],
   "source": [
    "substring = part.get_payload(decode=True)[787:787 + 10]\n",
    "substring\n"
   ]
  },
  {
   "cell_type": "markdown",
   "metadata": {},
   "source": [
    "# Pre-traitement"
   ]
  },
  {
   "cell_type": "markdown",
   "metadata": {},
   "source": [
    "Lire tous les mails du dossier"
   ]
  },
  {
   "cell_type": "code",
   "execution_count": 113,
   "metadata": {},
   "outputs": [],
   "source": [
    "# iterate through all file and call the method from above\n",
    "new_list = []\n",
    "path = \"data/archives-EGC/\"\n",
    "\n",
    "for root, dirs, files in os.walk(path):\n",
    "    for file in files:\n",
    "        if not file.startswith('.'):\n",
    "            with open(os.path.join(root, file), \"r\", encoding = \"ISO-8859-1\") as auto:\n",
    "                # a = auto.read()\n",
    "                # print(a)\n",
    "                emails = auto.read()\n",
    "                new_list.append(emails)"
   ]
  },
  {
   "cell_type": "code",
   "execution_count": 112,
   "metadata": {},
   "outputs": [
    {
     "data": {
      "text/plain": [
       "'Return-Path: <Pierre.Gancarski@lsiit.u-strasbg.fr>\\nX-Original-To: polytech_liste-egc@sympa.univ-nantes.fr\\nDelivered-To: polytech_liste-egc@sympa.univ-nantes.fr\\nReceived: from dpt-info.u-strasbg.fr (dpt-info.u-strasbg.fr [130.79.44.193])\\n\\tby Sympa.univ-nantes.fr (Postfix) with ESMTP id D025618CAD7F\\n\\tfor <polytech_liste-egc@sympa.univ-nantes.fr>; Fri, 31 Mar 2006 17:28:03 +0200 (CEST)\\nReceived: from [130.79.90.109] (cafeteria.u-strasbg.fr [130.79.90.109])\\n\\tby dpt-info.u-strasbg.fr (8.12.8p1/8.12.8) with ESMTP id k2VFRmUk041007\\n\\tfor <polytech_liste-egc@sympa.univ-nantes.fr>; Fri, 31 Mar 2006 17:27:48 +0200 (CEST)\\n\\t(envelope-from Pierre.Gancarski@lsiit.u-strasbg.fr)\\nMessage-ID: <442D4C1B.8000808@lsiit.u-strasbg.fr>\\nDate: Fri, 31 Mar 2006 17:34:51 +0200\\nFrom: Pierre Gancarski <Pierre.Gancarski@lsiit.u-strasbg.fr>\\nUser-Agent: Mozilla Thunderbird 1.0.6 (X11/20050716)\\nX-Accept-Language: fr, en\\nMIME-Version: 1.0\\nTo: polytech_liste-egc@sympa.univ-nantes.fr\\nSubject: Fouille de =?ISO-8859-1?Q?donn=E9es_complexes_=3A_Appel_?=\\n =?ISO-8859-1?Q?=E0_participation_et_pr=E9sentation?=\\nContent-Type: multipart/mixed;\\n boundary=\"------------060304070009010709060901\"\\nX-Validation-by: jerome.david@univ-nantes.fr\\n\\nThis is a multi-part message in MIME format.\\n--------------060304070009010709060901\\nContent-Type: multipart/alternative;\\n boundary=\"------------030203010902010800020704\"\\n\\n--------------030203010902010800020704\\nContent-Type: text/plain; charset=ISO-8859-1; format=flowed\\nContent-Transfer-Encoding: 8bit\\n\\nAPPEL A PARTICIPATION ET PRESENTATIONS\\n\\n*Groupe de Travail sur la Fouille de Données Complexes\\n*\\nLes 11 et 12 Mai 2006 à Paris\\n\\nENST PARIS - Département INFRES ,   Amphi Saphir\\n46 Rue Barrault  75013 PARIS\\n\\n\\nInformations en ligne : http://gt-fdc.univ-lyon2.fr/\\n\\n\\nLe groupe de travail sur la \"Fouille de Données Complexes\" (GT-FDC) a \\npoursuivi ses activités en 2005, lors de la réunion plénière consacrée\\naux objectifs du groupe et aux deux thèmes existants.\\n\\nSuite à l\\'atelier FDC à EGC 06, nous vous proposons un nouveau thème \\ncette année. Ainsi les 3 thèmes pour 2006 sont :\\n\\nThème 1 : Connaissances et classification d\\'objets complexes multi-sources\\n (Resp. Pierre Gançarski \\n<mailto:Pierre.Gancarski@dpt-info.u-strasbg.fr>, Lab. LSIIT, \\nUniv.Strasbourg).\\n\\nThème 2 : Structuration et organisation des données complexes\\n(Resp. Omar.Boussaid <mailto:Omar.Boussaid@univ-lyon2.fr>, Lab. Eric, \\nUniv. Lyon 2 et Florent Masseglia \\n<mailto:Florent.Masseglia@sophia.inria.fr>, AxIS, Inria Sophia Antipolis).\\n\\nThème 3 : Rôle des connaissances en fouille de données complexes\\n(Resp. Sylvie Desprès <mailto:sd@@math-info.univ-paris5.fr>, CRIP5 \\nUniv.  Paris V et  Brigitte Trousse <mailto:trousse@sophia.inria.fr> \\n,AxIS INRIA Sophia Antipolis)\\n\\n\\nLa prochaine réunion aura lieu les 11 et 12 Mai à Paris.\\n\\n\\nSi vous êtes intéressés pour venir faire une présentation  nous vous \\nprions de manifester votre intention en envoyant un résumé de 10 lignes \\ndirectement aux responsables des thèmes concernés.\\n\\n\\n\\nLes présentations peuvent durer 30 mn et peuvent concerner : vos travaux \\nrécents, une présentation de synthèse de votre équipe, des données sur \\nlesquelles vous travaillez et qui peuvent interesser les membres de ce \\nGT, etc.\\n\\n/Afin que nous puissons finaliser le programme des journées, merci \\nd\\'envoyer vos propositions de présentations aux responsables des thèmes\\nle plus tôt possible./\\n\\n\\nUne demi journée sur ces deux jours pourra être réservé au lancement du \\nnouveau thème sur le \"rôle des connaissances en fouille de données \\ncomplexes\" dont vous trouverez une description détaillée à l\\'adresse \\nsuivante : http://www-sop.inria.fr/axis/fdc/presentation-theme3.html\\n\\n\\n\\nEn espérant vous voir nombreux le 11et 12  Mai à Paris.\\n\\nOmar Boussaid, Sylvie Desprès, Pierre Gançarski, Florent Masseglia et\\nBrigitte Trousse.\\n\\n--------------030203010902010800020704\\nContent-Type: text/html; charset=ISO-8859-1\\nContent-Transfer-Encoding: 7bit\\n\\n<!DOCTYPE html PUBLIC \"-//W3C//DTD HTML 4.01 Transitional//EN\">\\n<html>\\n<head>\\n  <meta content=\"text/html;charset=ISO-8859-1\" http-equiv=\"Content-Type\">\\n  <title></title>\\n</head>\\n<body bgcolor=\"#ffffff\" text=\"#000000\">\\nAPPEL A PARTICIPATION ET PRESENTATIONS<br>\\n<br>\\n<b>Groupe de Travail sur la Fouille de Donn&eacute;es Complexes<br>\\n</b><br>\\nLes 11 et 12 Mai 2006 &agrave; Paris<br>\\n<br>\\nENST PARIS - D&eacute;partement INFRES ,&nbsp;&nbsp; Amphi Saphir<br>\\n46 Rue Barrault&nbsp; 75013 PARIS<br>\\n<br>\\n<br>\\nInformations en ligne : <a href=\"http://gt-fdc.univ-lyon2.fr/\">http://gt-fdc.univ-lyon2.fr/</a><br>\\n<br>\\n<br>\\nLe groupe de travail sur la \"Fouille de Donn&eacute;es Complexes\" (GT-FDC) a\\npoursuivi ses activit&eacute;s en 2005, lors de la r&eacute;union pl&eacute;ni&egrave;re consacr&eacute;e<br>\\naux objectifs du groupe et aux deux th&egrave;mes existants. <br>\\n<br>\\nSuite &agrave; l\\'atelier FDC &agrave; EGC 06, nous vous proposons un nouveau th&egrave;me\\ncette ann&eacute;e. Ainsi les 3 th&egrave;mes pour 2006 sont :<br>\\n<br>\\nTh&egrave;me 1 : Connaissances et classification d\\'objets complexes\\nmulti-sources<br>\\n&nbsp;(Resp. <a href=\"mailto:Pierre.Gancarski@dpt-info.u-strasbg.fr\">Pierre\\nGan&ccedil;arski</a>, Lab. LSIIT, Univ.Strasbourg).<br>\\n<br>\\nTh&egrave;me 2 : Structuration et organisation des donn&eacute;es complexes <br>\\n(Resp. <a href=\"mailto:Omar.Boussaid@univ-lyon2.fr\">Omar.Boussaid</a>,\\nLab. Eric, Univ. Lyon 2 et <a\\n href=\"mailto:Florent.Masseglia@sophia.inria.fr\">Florent Masseglia</a>,\\nAxIS, Inria Sophia Antipolis).<br>\\n<br>\\nTh&egrave;me 3 : R&ocirc;le des connaissances en fouille de donn&eacute;es complexes<br>\\n(Resp. <a href=\"mailto:sd@@math-info.univ-paris5.fr\">Sylvie Despr&egrave;s</a>,\\nCRIP5 Univ.&nbsp; Paris V et&nbsp; <a href=\"mailto:trousse@sophia.inria.fr\">Brigitte\\nTrousse</a> ,AxIS INRIA Sophia Antipolis)<br>\\n<br>\\n<br>\\nLa prochaine r&eacute;union aura lieu les 11 et 12 Mai &agrave; Paris.<br>\\n<br>\\n<br>\\n<table border=\"1\" cellpadding=\"2\" cellspacing=\"2\" width=\"100%\">\\n  <tbody>\\n    <tr>\\n      <td valign=\"top\">Si vous &ecirc;tes int&eacute;ress&eacute;s pour venir faire une\\npr&eacute;sentation&nbsp; nous vous prions de manifester votre intention en\\nenvoyant un r&eacute;sum&eacute; de 10 lignes directement aux responsables des th&egrave;mes\\nconcern&eacute;s.<br>\\n      </td>\\n    </tr>\\n  </tbody>\\n</table>\\n<br>\\n<br>\\nLes pr&eacute;sentations peuvent durer 30 mn et peuvent concerner : vos\\ntravaux r&eacute;cents, une pr&eacute;sentation de synth&egrave;se de votre &eacute;quipe, des\\ndonn&eacute;es sur lesquelles vous travaillez et qui peuvent interesser les\\nmembres de ce GT, etc.<br>\\n<br>\\n<i>Afin que nous puissons finaliser le programme des journ&eacute;es, merci\\nd\\'envoyer vos propositions de pr&eacute;sentations aux responsables des th&egrave;mes<br>\\nle plus t&ocirc;t possible.</i><br>\\n<br>\\n<br>\\nUne demi journ&eacute;e sur ces deux jours pourra &ecirc;tre r&eacute;serv&eacute; au lancement du\\nnouveau th&egrave;me sur le \"r&ocirc;le des connaissances en fouille de donn&eacute;es\\ncomplexes\" dont vous trouverez une description d&eacute;taill&eacute;e &agrave; l\\'adresse\\nsuivante : <a\\n href=\"http://www-sop.inria.fr/axis/fdc/presentation-theme3.html\">http://www-sop.inria.fr/axis/fdc/presentation-theme3.html</a><br>\\n<br>\\n<br>\\n<br>\\nEn esp&eacute;rant vous voir nombreux le 11et 12&nbsp; Mai &agrave; Paris.<br>\\n<br>\\nOmar Boussaid, Sylvie Despr&egrave;s, Pierre Gan&ccedil;arski, Florent Masseglia et<br>\\nBrigitte Trousse.\\n</body>\\n</html>\\n\\n--------------030203010902010800020704--\\n\\n--------------060304070009010709060901\\nContent-Type: text/x-vcard; charset=utf-8;\\n name=\"Pierre.Gancarski.vcf\"\\nContent-Transfer-Encoding: 7bit\\nContent-Disposition: attachment;\\n filename=\"Pierre.Gancarski.vcf\"\\n\\nbegin:vcard\\nfn;quoted-printable:Pierre Gan=C3=A7arski\\nn;quoted-printable:Gan=C3=A7arski;Pierre\\norg;quoted-printable:LSIIT - UMR 7005 (CNRS/ULP);Apprentissage et Fouille de Donn=C3=A9es\\nadr;quoted-printable:BP 10413;;P=C3=B4le API;Illkirch;;F-67412;France\\nemail;internet:Pierre.Gancarski@lsiit.u-strasbg.fr\\ntitle;quoted-printable:Ma=C3=AEtre de conf=C3=A9rences\\ntel;work:+33 390 244 576\\ntel;fax:+33 390 244 455\\nx-mozilla-html:TRUE\\nurl:https://dpt-info.u-strasbg.fr/~gancars\\nversion:2.1\\nend:vcard\\n\\n\\n--------------060304070009010709060901--\\n\\n'"
      ]
     },
     "execution_count": 112,
     "metadata": {},
     "output_type": "execute_result"
    }
   ],
   "source": [
    "path = 'data/archives-EGC/polytech_liste-egc_archives-2006-2010/polytech_liste-egc_2006-03/'\n",
    "new_list = []\n",
    "\n",
    "for file in os.listdir(path):\n",
    "    with open(os.path.join(path, file), \"r\", encoding = \"ISO-8859-1\") as mail:\n",
    "        # print(mail.read())\n",
    "        emails = mail.read()\n",
    "        new_list.append(emails)\n",
    "new_list[0]"
   ]
  },
  {
   "cell_type": "markdown",
   "metadata": {},
   "source": [
    "Enlever les elements inutiles dans le mail"
   ]
  },
  {
   "cell_type": "code",
   "execution_count": null,
   "metadata": {},
   "outputs": [],
   "source": []
  },
  {
   "cell_type": "markdown",
   "metadata": {},
   "source": [
    "# Creation des Embeddings"
   ]
  },
  {
   "cell_type": "code",
   "execution_count": 114,
   "metadata": {},
   "outputs": [],
   "source": [
    "preprocess_url = \"https://tfhub.dev/tensorflow/bert_en_uncased_preprocess/3\"\n",
    "encoder_url = \"https://tfhub.dev/tensorflow/bert_en_uncased_L-12_H-768_A-12/4\""
   ]
  },
  {
   "cell_type": "code",
   "execution_count": 115,
   "metadata": {},
   "outputs": [
    {
     "ename": "NameError",
     "evalue": "name 'hub' is not defined",
     "output_type": "error",
     "traceback": [
      "\u001b[0;31m---------------------------------------------------------------------------\u001b[0m",
      "\u001b[0;31mNameError\u001b[0m                                 Traceback (most recent call last)",
      "\u001b[1;32m/Users/djedjakamara/Library/Mobile Documents/com~apple~CloudDocs/1. School/nantes/Cours/IDIA5/Semestre 9/Projet R&D/dev/mail.ipynb Cellule 16\u001b[0m line \u001b[0;36m1\n\u001b[0;32m----> <a href='vscode-notebook-cell:/Users/djedjakamara/Library/Mobile%20Documents/com~apple~CloudDocs/1.%20School/nantes/Cours/IDIA5/Semestre%209/Projet%20R%26D/dev/mail.ipynb#X13sZmlsZQ%3D%3D?line=0'>1</a>\u001b[0m bert_preprocess_model \u001b[39m=\u001b[39m hub\u001b[39m.\u001b[39mKerasLayer(preprocess_url)\n",
      "\u001b[0;31mNameError\u001b[0m: name 'hub' is not defined"
     ]
    }
   ],
   "source": [
    "bert_preprocess_model = hub.KerasLayer(preprocess_url)"
   ]
  },
  {
   "cell_type": "code",
   "execution_count": null,
   "metadata": {},
   "outputs": [],
   "source": [
    "text_test = ['Il est vers la porte', 'Je marche vers lui', 'Ce vers est lent']\n",
    "text_preprocessed = bert_preprocess_model(text_test)\n",
    "text_preprocessed.keys()"
   ]
  },
  {
   "cell_type": "code",
   "execution_count": null,
   "metadata": {},
   "outputs": [],
   "source": [
    "bert_model = hub.KerasLayer(encoder_url)\n",
    "bert_results = bert_model(text_preprocessed)\n",
    "bert_results.keys()"
   ]
  },
  {
   "cell_type": "markdown",
   "metadata": {},
   "source": [
    "# Recupération vecteurs les plus proches"
   ]
  },
  {
   "cell_type": "code",
   "execution_count": null,
   "metadata": {},
   "outputs": [],
   "source": []
  },
  {
   "cell_type": "markdown",
   "metadata": {},
   "source": [
    "# Mails multilangues"
   ]
  }
 ],
 "metadata": {
  "kernelspec": {
   "display_name": "TP",
   "language": "python",
   "name": "python3"
  },
  "language_info": {
   "codemirror_mode": {
    "name": "ipython",
    "version": 3
   },
   "file_extension": ".py",
   "mimetype": "text/x-python",
   "name": "python",
   "nbconvert_exporter": "python",
   "pygments_lexer": "ipython3",
   "version": "3.9.7"
  },
  "orig_nbformat": 4
 },
 "nbformat": 4,
 "nbformat_minor": 2
}
