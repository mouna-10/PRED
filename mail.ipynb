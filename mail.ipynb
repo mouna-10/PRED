{
 "cells": [
  {
   "cell_type": "code",
   "execution_count": 1,
   "metadata": {},
   "outputs": [
    {
     "name": "stdout",
     "output_type": "stream",
     "text": [
      "Intel MKL WARNING: Support of Intel(R) Streaming SIMD Extensions 4.2 (Intel(R) SSE4.2) enabled only processors has been deprecated. Intel oneAPI Math Kernel Library 2025.0 will require Intel(R) Advanced Vector Extensions (Intel(R) AVX) instructions.\n",
      "Intel MKL WARNING: Support of Intel(R) Streaming SIMD Extensions 4.2 (Intel(R) SSE4.2) enabled only processors has been deprecated. Intel oneAPI Math Kernel Library 2025.0 will require Intel(R) Advanced Vector Extensions (Intel(R) AVX) instructions.\n"
     ]
    }
   ],
   "source": [
    "import pandas as pd\n",
    "import os\n",
    "import email\n",
    "# import tensorflow_text as text"
   ]
  },
  {
   "cell_type": "code",
   "execution_count": 3,
   "metadata": {},
   "outputs": [],
   "source": [
    "# import tensorflow as tf"
   ]
  },
  {
   "cell_type": "markdown",
   "metadata": {},
   "source": [
    "recuperation de tous les chemins des 10819 mails"
   ]
  },
  {
   "cell_type": "code",
   "execution_count": 2,
   "metadata": {},
   "outputs": [],
   "source": [
    "path = \"data/archives-EGC/\"\n",
    "\n",
    "email_paths = []\n",
    "for root, dirs, files in os.walk(path):\n",
    "    for file in files:\n",
    "        if not file.startswith('.'):\n",
    "            email_path = os.path.join(root, file)\n",
    "            email_paths.append(email_path)"
   ]
  },
  {
   "cell_type": "markdown",
   "metadata": {},
   "source": [
    "Fonction pour lire le contenu d'un email a partir du chemin"
   ]
  },
  {
   "cell_type": "code",
   "execution_count": 4,
   "metadata": {},
   "outputs": [],
   "source": [
    "def get_email(email_path):\n",
    "    with open(email_path, \"r\", encoding = \"ISO-8859-1\") as mail: # only returns a file object\n",
    "        email_content = mail.read() # read the object\n",
    "        return email_content"
   ]
  },
  {
   "cell_type": "markdown",
   "metadata": {},
   "source": [
    "## Lire UN fichier"
   ]
  },
  {
   "cell_type": "code",
   "execution_count": 78,
   "metadata": {},
   "outputs": [],
   "source": [
    "# Search one mail from given path\n",
    "path = \"data/archives-EGC/polytech_liste-egc_archives-2006-2010/polytech_liste-egc_2008-04/10\"\n",
    "msg = get_email(path)\n",
    "msg = email.message_from_string(msg)\n",
    "mails = []\n",
    "\n",
    "for part in msg.walk():\n",
    "    payload = part.get_payload(decode=True)\n",
    "    if payload is None:\n",
    "        continue\n",
    "    try:\n",
    "        body = payload.decode().decode(part.get_content_charset())\n",
    "    except:\n",
    "        body = payload.decode(\"ISO-8859-1\")\n",
    "        break\n",
    "# body"
   ]
  },
  {
   "cell_type": "code",
   "execution_count": 72,
   "metadata": {},
   "outputs": [
    {
     "name": "stdout",
     "output_type": "stream",
     "text": [
      "data/archives-EGC/polytech_liste-egc_archives-2006-2010/polytech_liste-egc_2008-04/20\n"
     ]
    }
   ],
   "source": [
    "# Search one mail from given index\n",
    "path = email_paths[0]\n",
    "print(path)\n",
    "\n",
    "msg = get_email(path)\n",
    "msg = email.message_from_string(msg)\n",
    "for part in msg.walk():\n",
    "        body = part.get_payload(decode=True).decode(part.get_content_charset())"
   ]
  },
  {
   "cell_type": "code",
   "execution_count": 74,
   "metadata": {},
   "outputs": [
    {
     "data": {
      "text/plain": [
       "'\\tReturn-Path: <Omar.Boussaid@univ-lyon2.fr>\\nX-Original-To: polytech_liste-egc@sympa.univ-nantes.fr\\nDelivered-To: polytech_liste-egc@sympa.univ-nantes.fr\\nReceived: from BounceSmtp1.univ-nantes.fr (BounceSMTP1.univ-nantes.prive [172.20.12.66])\\n\\tby Sympa.univ-nantes.fr (Postfix) with ESMTP id 1104318B7289\\n\\tfor <polytech_liste-egc@sympa.univ-nantes.fr>; Tue, 22 Apr 2008 15:43:33 +0200 (CEST)\\nReceived: from MX2.univ-nantes.fr (MX2.univ-nantes.fr [193.52.101.136])\\n\\tby BounceSmtp1.univ-nantes.fr (Postfix) with ESMTP id 3E63DC3BD\\n\\tfor <polytech_liste-egc@sympa.univ-nantes.fr>; Tue, 22 Apr 2008 15:45:23 +0200 (CEST)\\nReceived: from localhost (debian [127.0.0.1])\\n\\tby MX2.univ-nantes.fr (Postfix) with ESMTP id 8827B828B00\\n\\tfor <polytech_liste-egc@sympa.univ-nantes.fr>; Tue, 22 Apr 2008 15:46:40 +0200 (CEST)\\nReceived: from MX2.univ-nantes.fr ([193.52.101.136])\\n\\tby localhost (MX2.univ-nantes.fr [193.52.101.136]) (amavisd-new, port 10024)\\n\\twith LMTP id 28267-01-38\\n\\tfor <polytech_liste-egc@sympa.univ-nantes.fr>;\\n\\tTue, 22 Apr 2008 15:46:35 +0200 (CEST)\\nX-Greylist: domain auto-whitelisted by SQLgrey-1.6.7\\nReceived: from smtp.univ-lyon2.fr (smtp.univ-lyon2.fr [159.84.143.102])\\n\\tby MX2.univ-nantes.fr (Postfix) with ESMTP id CAABC828AFD\\n\\tfor <liste-egc@polytech.univ-nantes.fr>; Tue, 22 Apr 2008 15:46:35 +0200 (CEST)\\nReceived: from localhost (localhost [127.0.0.1])\\n\\tby smtp.univ-lyon2.fr (Postfix) with ESMTP\\n\\tid AE6D77251B7F; Tue, 22 Apr 2008 15:45:13 +0200 (CEST)\\nX-Virus-Scanned: amavisd-new at univ-lyon2.fr\\nReceived: from smtp.univ-lyon2.fr ([127.0.0.1])\\n\\tby localhost (smtp.univ-lyon2.fr [127.0.0.1]) (amavisd-new, port 10024)\\n\\twith ESMTP id TotCjm-8iMw1; Tue, 22 Apr 2008 15:45:05 +0200 (CEST)\\nReceived: from [127.0.0.1] (unknown [159.84.128.164])\\n\\tby smtp.univ-lyon2.fr (Postfix) with ESMTP\\n\\tid 198147251B1C; Tue, 22 Apr 2008 15:45:05 +0200 (CEST)\\nMessage-ID: <480DEBEB.1030000@univ-lyon2.fr>\\nDate: Tue, 22 Apr 2008 15:45:15 +0200\\nFrom: Omar Boussaid <Omar.Boussaid@univ-lyon2.fr>\\nUser-Agent: Thunderbird 1.5.0.14 (Windows/20071210)\\nMIME-Version: 1.0\\nTo: Liste EGC <liste-egc@polytech.univ-nantes.fr>\\nSubject: RNTI =?ISO-8859-15?Q?N=B02_-_Fouille_de_donn=E9es_Comp?=\\n =?ISO-8859-15?Q?lexes?=\\nContent-Type: multipart/alternative;\\n boundary=\"------------020605030909000102060606\"\\nX-Antivirus: avast! (VPS 080422-0, 22/04/2008), Outbound message\\nX-Antivirus-Status: Clean\\nX-Virus-Scanned: by amavisd-new-20030616-p7 (Debian) at univ-nantes.fr\\nX-CRM114-Version: 20040816.BlameClockworkOrange-auto.3 (regex: TRE TRE 0.7.2 (GPL)) MF-A10FFB4C \\nX-CRM114-Status: Good  ( pR: 303.2140 )\\nX-Spam-Status: No, hits=2.5 tagged_above=-10000.0 required=5.0\\n\\ttests=HTML_50_60, HTML_FONTCOLOR_RED, HTML_MESSAGE, HTML_TITLE_EMPTY,\\n\\tMANGLED_SPCALS, MR_NOT_ATTRIBUTED_IP, NO_RDNS, RATWR10_MESSID,\\n\\tSARE_OEM_FAKE_YEAR, CRM_HAM_05\\nX-Spam-Level: **\\nX-Validation-by: fabrice.guillet@univ-nantes.fr\\n\\nThis is a multi-part message in MIME format.\\n--------------020605030909000102060606\\nContent-Type: text/plain; charset=ISO-8859-15; format=flowed\\nContent-Transfer-Encoding: quoted-printable\\n\\nNos execuses en cas de r=E9ceptions multiples.\\n\\n\\n\\n\\nAppel =E0 Communications\\n\\n*Revue des Nouvelles Technologies de l\\'Information, C=E9padu=E8s*\\n\\n=20\\n*Deuxi=E8me num=E9ro sp=E9cial sur la : Fouille de donn=E9es complexes*\\n\\n=20\\nDeuxi=E8me appel\\n\\n=20\\n\\nLe num=E9ro sp=E9cial pr=E9c=E9dent  (parution 2005) a dress=E9 un premier=\\n=20\\npanorama des travaux r=E9cents dans le domaine de la fouille de donn=E9es=\\n=20\\ncomplexes, fouille de donn=E9es replac=E9e dans le processus d\\'Extraction d=\\ne=20\\nConnaissances =E0 partir de donn=E9es (ECD). Ce nouveau num=E9ro veut=20\\npoursuivre et compl=E9ter ce tour d\\'horizon par travaux r=E9cents dans le=\\n=20\\ndomaine. Il est motiv=E9 par le succ=E8s =E0 la fois des  premiers ateliers=\\n=20\\nsur la fouille de donn=E9es complexes  organis=E9s lors de conf=E9rence EGC=\\n=20=20\\net du  groupe de travail =AB Fouille de donn=E9es complexes =BB anim=E9 par=\\n D.A=20\\nZighed (ERIC, Universit=E9 de Lyon 2)\\n\\nLes objectifs poursuivis de ce nouveau  num=E9ro sont doubles, d\\'une part=\\n=20\\nmettre en =E9vidence les probl=E8mes qui se posent au niveau des diff=E9ren=\\ntes=20\\nphases d\\'un processus de fouille de donn=E9es complexes et  d\\'autre part=20\\nrendre compte des diverses mani=E8res d\\'appr=E9hender cette notion de=20\\ncomplexit=E9.\\n\\nDans tous les domaines tels que le multim=E9dia, la t=E9l=E9d=E9tection,=20\\nl\\'imagerie m=E9dicale, les syst=E8mes d\\'information, le web s=E9mantique, l=\\na=20\\nbioinformatique et bien d\\'autres, les donn=E9es =E0 traiter pour y extraire=\\n=20\\nde la connaissance utilisable sont de plus en plus complexes.=20\\n\\n=20\\n\\nAinsi est-on amen=E9 =E0 devoir manipuler des donn=E9es souvent non=20\\nstructur=E9es ; issues de diverses provenances comme des capteurs ou=20\\nsources physiques d\\'informations vari=E9es;  repr=E9sentant la m=EAme=20\\ninformation =E0 des dates diff=E9rentes ; regroupant diff=E9rents formats=\\n=20\\nd\\'informations (images, textes...) ou encore regroupant diff=E9rents types=\\n=20\\nd\\'information (contenu de documents, connaissances ou ontologies, etc.).\\n\\n=20\\nDe fait seront particuli=E8rement appr=E9ci=E9s (liste non exhaustive) des=\\n=20\\narticles=20\\n\\n    * s\\'int=E9ressant =E0 la qualit=E9, =E0 l\\'h=E9t=E9rog=E9n=E9it=E9 et au=\\nx aspects\\n      multi-sources des donn=E9es,\\n    * pr=E9sentant des travaux =E0 la crois=E9e de l\\'ECD et l\\'ing=E9nierie =\\ndes\\n      connaissances (IC),\\n    * d=E9crivant des adaptations  de m=E9thodes existantes de fouille ou =\\n=E0\\n      en d=E9finissant  de nouvelles,\\n    * s\\'int=E9ressant =E0 la classification et la fusion de donn=E9es\\n      multi-sources,\\n    * lproposant des modifications des diff=E9rentes =E9tapes du processus\\n      d\\'ECD  ou de nouvelles approches par exemple centr=E9es utilisateur\\n      : approches interactives, m=E9thodes de visualisation pour aider =E0\\n      l\\'interpr=E9tation des r=E9sultats,\\n    * mettant en =E9vidence la capacit=E9 =E0 anticiper la pertinence des\\n      r=E9sultats de la fouille d=E8s les premi=E8res =E9tapes et =E0 valid=\\ner leur\\n      pertinence vis-=E0-vis d\\'objectifs applicatifs,\\n    * portant sur le travail pr=E9paratoire sur les donn=E9es complexes\\n      avant l\\'application des techniques de fouille de donn=E9es.\\n\\n/*\\nR=E9dacteurs invit=E9s :*/\\n\\nOmar Boussa=EFd. Laboratoire ERIC, Lyon2\\nPierre Gan=E7arski., Laboratoire LSIIT, Strasbourg\\nBrigitte Trousse, Centre de Recherche INRIA Sophia Antipolis --=20\\nM=E9diterran=E9e  (EPI Axis)\\n\\n *Le comit=E9 de lecture est en cours de constitution.*\\n\\n*/ /*\\n\\n*/ Modalit=E9s de soumission/*\\n\\n Le format est disponible =E0 l\\'adresse :=20\\nhttp://www.antsearch.univ-tours.fr/rnti.  Le papier peut-=EAtre r=E9dig=E9 =\\nen=20\\nfran=E7ais ou en anglais (20 =E0 25 pages). Une d=E9claration d\\'intention a=\\nvec=20\\nun r=E9sum=E9 d\\'une page sous forme =E9lectronique est =E0 envoyer =E0=20=\\n=20\\nfdc-rnti@lsiit.u-strasbg.fr=20\\n<mailto:fdc-rnti@lsiit.u-strasbg.fr?subject=3DIntention%20de%20Soumission%2=\\n0RNTI%20Fouille%20de%20Donn%C3%A9es>=20\\navant le 7* juillet 2008.   *\\n\\n Les soumissions d\\'article sont =E0 envoyer sous forme =E9lectronique=20\\nexclusivement =E0 :   fdc-rnti@lsiit.u-strasbg.fr=20\\n<mailto:fdc-rnti@lsiit.u-strasbg.fr?subject=3DSoumission%20RNTI%20Fouille%2=\\n0de%20Donn%C3%A9es>\\n\\n=20\\n*La date limite de soumission est le  14 juillet 2O08\\n*\\n\\n\\nB. Trousse, P Gan=E7arski, O. Boussaid\\n**\\n\\n*=20=20=20=20=20=20=20=20=20=20=20=20=20=20=20=20=20=20=20=20=20=20=20=20=\\n=20=20=20=20=20=20=20=20=20=20=20=20=20=20=20=20=20=20=20=20=20=20=20=20=20=\\n=20=20=20=20=20=20=20=20=20=20=20=20=20=20=20=20=20=20=20=20=20=20=20=20=20=\\n=20=20=20=20=20=20=20=20=20=20=20=20=20=20=20=20=20=20=20=20=20=20=20\\n*\\n\\n* *\\n\\n\\n\\n\\n--------------020605030909000102060606\\nContent-Type: text/html; charset=ISO-8859-15\\nContent-Transfer-Encoding: quoted-printable\\n\\n<!DOCTYPE html PUBLIC \"-//W3C//DTD HTML 4.01 Transitional//EN\">\\n<html>\\n<head>\\n  <meta content=3D\"text/html;charset=3DISO-8859-15\"\\n http-equiv=3D\"Content-Type\">\\n  <title></title>\\n</head>\\n<body bgcolor=3D\"#ffffff\" text=3D\"#000000\">\\n<span style=3D\"font-size: 11pt; font-family: &quot;Calibri&quot;,&quot;sans=\\n-serif&quot;;\">Nos\\nexecuses en cas de r=E9ceptions multiples.</span><br>\\n<font face=3D\"Arial\"><br>\\n<br>\\n<br>\\n<br>\\n</font>\\n<p class=3D\"MsoNormal\" style=3D\"text-align: center;\" align=3D\"left\"><big><s=\\npan\\n style=3D\"font-family: &quot;Calibri&quot;,&quot;sans-serif&quot;;\"><big>Ap=\\npel =E0\\nCommunications<o:p></o:p></big></span></big></p>\\n<p class=3D\"MsoNormal\" style=3D\"text-align: center;\" align=3D\"center\"><big>=\\n<big><b\\n style=3D\"\"><span style=3D\"font-family: &quot;Calibri&quot;,&quot;sans-seri=\\nf&quot;;\">Revue des\\nNouvelles\\nTechnologies de l\\'Information, C=E9padu=E8s<o:p></o:p></span></b></big></bi=\\ng></p>\\n<p class=3D\"MsoNormal\" style=3D\"text-align: center;\" align=3D\"center\"><big>=\\n<big><span\\n style=3D\"font-size: 8pt; font-family: &quot;Calibri&quot;,&quot;sans-serif=\\n&quot;;\"><o:p>=A0</o:p></span><br>\\n</big></big><b style=3D\"\"><span\\n style=3D\"font-family: &quot;Calibri&quot;,&quot;sans-serif&quot;;\"><big><b=\\nig>Deuxi=E8me num=E9ro\\nsp=E9cial sur la=A0: </big></big><span class=3D\"eudoraheader\"><span\\n style=3D\"text-transform: uppercase;\"><big><big>Fouille de donn=E9es\\ncomplexes</big></big><o:p></o:p></span></span></span></b></p>\\n<p class=3D\"MsoNormal\" style=3D\"text-align: center;\" align=3D\"center\"><span\\n style=3D\"font-size: 11pt; font-family: &quot;Calibri&quot;,&quot;sans-seri=\\nf&quot;;\"><o:p>=A0</o:p><br>\\nDeuxi=E8me appel <o:p></o:p></span></p>\\n<p class=3D\"MsoNormal\" style=3D\"text-align: center;\" align=3D\"center\"><span\\n style=3D\"font-size: 8pt; font-family: &quot;Calibri&quot;,&quot;sans-serif=\\n&quot;;\"><o:p>=A0</o:p></span></p>\\n<p class=3D\"MsoNormal\" style=3D\"text-align: justify;\"><span\\n style=3D\"font-size: 11pt; font-family: &quot;Calibri&quot;,&quot;sans-seri=\\nf&quot;;\">Le\\nnum=E9ro sp=E9cial pr=E9c=E9dent<span style=3D\"\">=A0 </span>(parution 2005)=\\n a\\ndress=E9 un premier panorama\\ndes travaux r=E9cents dans le domaine de la fouille de donn=E9es complexes,\\nfouille\\nde donn=E9es replac=E9e dans le processus d&#8217;Extraction de </span><span\\n style=3D\"font-size: 11pt; font-family: &quot;Calibri&quot;,&quot;sans-seri=\\nf&quot;;\">Connaissances\\n=E0 partir de donn=E9es </span><span\\n style=3D\"font-size: 11pt; font-family: &quot;Calibri&quot;,&quot;sans-seri=\\nf&quot;;\">(ECD).\\nCe nouveau num=E9ro veut poursuivre et\\ncompl=E9ter ce tour d\\'horizon par travaux r=E9cents dans le domaine. Il est\\nmotiv=E9\\npar le succ=E8s =E0 la fois des<span style=3D\"\">=A0 </span>premiers\\nateliers sur la fouille de donn=E9es complexes<span style=3D\"\">=A0\\n</span>organis=E9s lors de conf=E9rence EGC<span style=3D\"\">=A0\\n</span>et du<span style=3D\"\">=A0 </span>groupe de travail\\n=AB=A0Fouille de donn=E9es complexes=A0=BB anim=E9 par D.A Zighed (ERIC,\\nUniversit=E9 de Lyon 2) <o:p></o:p></span></p>\\n<p class=3D\"MsoNormal\" style=3D\"text-align: justify;\"><span\\n style=3D\"font-size: 11pt; font-family: &quot;Calibri&quot;,&quot;sans-seri=\\nf&quot;;\"><o:p></o:p>Les\\nobjectifs poursuivis de ce nouveau<span style=3D\"\">=A0 </span>num=E9ro sont\\ndoubles, d&#8217;une part mettre en\\n=E9vidence les probl=E8mes qui se posent au niveau des diff=E9rentes phases\\nd&#8217;un\\nprocessus de fouille de donn=E9es complexes et<span style=3D\"\">=A0\\n</span>d&#8217;autre part rendre compte des diverses mani=E8res d&#8217;app=\\nr=E9hender\\ncette\\nnotion de complexit=E9. <o:p></o:p></span></p>\\n<p class=3D\"WW-NormalWeb\"\\n style=3D\"margin: 0cm 0cm 0.0001pt; text-align: justify;\"><span\\n style=3D\"font-size: 11pt; font-family: &quot;Calibri&quot;,&quot;sans-seri=\\nf&quot;;\"><o:p></o:p>Dans\\ntous les\\ndomaines tels que le multim=E9dia, la t=E9l=E9d=E9tection, l\\'imagerie m=E9d=\\nicale,\\nles\\nsyst=E8mes d&#8217;information, le web s=E9mantique, la bioinformatique et =\\nbien\\nd\\'autres,\\nles donn=E9es =E0 traiter pour y extraire de la connaissance utilisable\\nsont de plus\\nen plus complexes.<span style=3D\"\">=A0 </span><o:p></o:p></span></p>\\n<p class=3D\"WW-NormalWeb\"\\n style=3D\"margin: 0cm 0cm 0.0001pt; text-align: justify;\"><span\\n class=3D\"NormalWebCar\"><span\\n style=3D\"font-size: 8pt; font-family: &quot;Calibri&quot;,&quot;sans-serif=\\n&quot;;\"><o:p>=A0</o:p></span></span></p>\\n<p class=3D\"WW-NormalWeb\"\\n style=3D\"margin: 0cm 0cm 0.0001pt; text-align: justify;\"><span\\n class=3D\"NormalWebCar\"><span\\n style=3D\"font-size: 11pt; font-family: &quot;Calibri&quot;,&quot;sans-seri=\\nf&quot;;\">Ainsi\\nest-on amen=E9 =E0 devoir manipuler des donn=E9es souvent non structur=E9es=\\n ; i</span></span><span\\n style=3D\"font-size: 11pt; font-family: &quot;Calibri&quot;,&quot;sans-seri=\\nf&quot;;\">ssues de\\ndiverses\\nprovenances comme des capteurs ou sources physiques d\\'informations\\nvari=E9es;<span style=3D\"\">=A0 </span>repr=E9sentant la m=EAme\\ninformation =E0 des dates diff=E9rentes ; regroupant diff=E9rents formats\\nd\\'informations (images, textes&#8230;) ou encore regroupant diff=E9rents ty=\\npes\\nd&#8217;information (contenu de documents, connaissances ou ontologies, etc=\\n.).<o:p></o:p></span></p>\\n<p class=3D\"MsoNormal\" style=3D\"text-align: justify;\"><span\\n style=3D\"font-size: 11pt; font-family: &quot;Calibri&quot;,&quot;sans-seri=\\nf&quot;;\"><o:p>=A0<br>\\n</o:p>De fait seront\\nparticuli=E8rement appr=E9ci=E9s (liste non exhaustive) des articles<span\\n style=3D\"\">=A0 </span><o:p></o:p></span></p>\\n<ul>\\n  <li><!--[if !supportLists]--><span\\n style=3D\"font-size: 9pt; font-family: Wingdings;\"><span style=3D\"\"><span\\n style=3D\"font-family: &quot;Times New Roman&quot;; font-style: normal; fon=\\nt-variant: normal; font-weight: normal; font-size: 7pt; line-height: normal=\\n; font-size-adjust: none; font-stretch: normal;\"></span></span></span><span\\n style=3D\"font-size: 11pt; font-family: &quot;Calibri&quot;,&quot;sans-seri=\\nf&quot;;\">s&#8217;int=E9ressant\\n=E0 la\\nqualit=E9, =E0 l&#8217;h=E9t=E9rog=E9n=E9it=E9 et aux aspects multi-sources=\\n des donn=E9es,<o:p></o:p></span></li>\\n  <li><!--[if !supportLists]--><span\\n style=3D\"font-size: 9pt; font-family: Wingdings;\"><span style=3D\"\"><span\\n style=3D\"font-family: &quot;Times New Roman&quot;; font-style: normal; fon=\\nt-variant: normal; font-weight: normal; font-size: 7pt; line-height: normal=\\n; font-size-adjust: none; font-stretch: normal;\"></span></span></span><span\\n style=3D\"font-size: 11pt; font-family: &quot;Calibri&quot;,&quot;sans-seri=\\nf&quot;;\">pr=E9sentant\\ndes</span><span\\n style=3D\"font-size: 11pt; font-family: &quot;Calibri&quot;,&quot;sans-seri=\\nf&quot;;\"> travaux\\n=E0 la crois=E9e de l&#8217;ECD et l&#8217;ing=E9nierie des\\nconnaissances (IC),<o:p></o:p></span></li>\\n  <li><!--[if !supportLists]--><span class=3D\"NormalWebCar\"><span\\n style=3D\"font-size: 9pt; font-family: Wingdings;\"><span style=3D\"\"><span\\n style=3D\"font-family: &quot;Times New Roman&quot;; font-style: normal; fon=\\nt-variant: normal; font-weight: normal; font-size: 7pt; line-height: normal=\\n; font-size-adjust: none; font-stretch: normal;\"></span></span></span></spa=\\nn><span\\n style=3D\"font-size: 11pt; font-family: &quot;Calibri&quot;,&quot;sans-seri=\\nf&quot;;\">d=E9crivant\\ndes adaptations </span><span class=3D\"NormalWebCar\"><span\\n style=3D\"font-size: 11pt; font-family: &quot;Calibri&quot;,&quot;sans-seri=\\nf&quot;;\"><span\\n style=3D\"\">=A0</span>de m=E9thodes existantes de fouille ou =E0 en\\nd=E9finissant<span style=3D\"\">=A0 </span>de nouvelles</span></span><span\\n class=3D\"NormalWebCar\"><span\\n style=3D\"font-size: 11pt; font-family: &quot;Calibri&quot;,&quot;sans-seri=\\nf&quot;;\">,<o:p></o:p></span></span></li>\\n  <li><!--[if !supportLists]--><span class=3D\"NormalWebCar\"><span\\n style=3D\"font-size: 9pt; font-family: Wingdings;\"><span style=3D\"\"><span\\n style=3D\"font-family: &quot;Times New Roman&quot;; font-style: normal; fon=\\nt-variant: normal; font-weight: normal; font-size: 7pt; line-height: normal=\\n; font-size-adjust: none; font-stretch: normal;\"></span></span></span></spa=\\nn><span\\n class=3D\"NormalWebCar\"><span\\n style=3D\"font-size: 11pt; font-family: &quot;Calibri&quot;,&quot;sans-seri=\\nf&quot;;\">s\\'int=E9ressant\\n=E0 la classification et\\nla fusion de donn=E9es multi-sources,<o:p></o:p></span></span></li>\\n  <li><!--[if !supportLists]--><span\\n style=3D\"font-size: 9pt; font-family: Wingdings;\"><span style=3D\"\">l<span\\n style=3D\"font-family: &quot;Times New Roman&quot;; font-style: normal; fon=\\nt-variant: normal; font-weight: normal; font-size: 7pt; line-height: normal=\\n; font-size-adjust: none; font-stretch: normal;\"></span></span></span><span\\n style=3D\"font-size: 11pt; font-family: &quot;Calibri&quot;,&quot;sans-seri=\\nf&quot;;\">proposant\\ndes\\nmodifications des diff=E9rentes =E9tapes du processus d&#8217;ECD<span styl=\\ne=3D\"\">=A0\\n    </span>ou de nouvelles approches par exemple\\ncentr=E9es utilisateur : approches interactives, m=E9thodes de\\nvisualisation pour\\naider =E0 l&#8217;interpr=E9tation des r=E9sultats,<o:p></o:p></span></li>\\n  <li><!--[if !supportLists]--><span class=3D\"NormalWebCar\"><span\\n style=3D\"font-size: 9pt; font-family: Wingdings;\"><span style=3D\"\"><span\\n style=3D\"font-family: &quot;Times New Roman&quot;; font-style: normal; fon=\\nt-variant: normal; font-weight: normal; font-size: 7pt; line-height: normal=\\n; font-size-adjust: none; font-stretch: normal;\"></span></span></span></spa=\\nn><span\\n class=3D\"NormalWebCar\"><span\\n style=3D\"font-size: 11pt; font-family: &quot;Calibri&quot;,&quot;sans-seri=\\nf&quot;;\">mettant\\nen =E9vidence la capacit=E9 =E0 anticiper la pertinence des r=E9sultats de =\\nla\\nfouille\\nd=E8s les premi=E8res =E9tapes et =E0 valider leur pertinence vis-=E0-vis\\nd&#8217;objectifs\\napplicatifs,<o:p></o:p></span></span></li>\\n  <li><!--[if !supportLists]--><span class=3D\"NormalWebCar\"><span\\n style=3D\"font-size: 9pt; font-family: Wingdings;\"><span style=3D\"\"><span\\n style=3D\"font-family: &quot;Times New Roman&quot;; font-style: normal; fon=\\nt-variant: normal; font-weight: normal; font-size: 7pt; line-height: normal=\\n; font-size-adjust: none; font-stretch: normal;\"></span></span></span></spa=\\nn><!--[endif]--><span\\n class=3D\"NormalWebCar\"><span\\n style=3D\"font-size: 11pt; font-family: &quot;Calibri&quot;,&quot;sans-seri=\\nf&quot;;\">portant\\nsur le travail pr=E9paratoire sur les donn=E9es complexes avant\\nl&#8217;application des\\ntechniques de fouille de donn=E9es.<o:p></o:p></span></span></li>\\n</ul>\\n<p class=3D\"MsoNormal\" style=3D\"text-align: justify;\"><i><span\\n style=3D\"font-family: &quot;Calibri&quot;,&quot;sans-serif&quot;;\"><b><br>\\nR=E9dacteurs\\ninvit=E9s=A0:</b><o:p></o:p></span></i></p>\\n<p class=3D\"MsoNormal\" style=3D\"text-align: justify;\"><span\\n style=3D\"font-family: &quot;Calibri&quot;,&quot;sans-serif&quot;;\">Omar\\nBoussa=EFd. Laboratoire ERIC, Lyon2<o:p></o:p><br>\\nPierre\\nGan=E7arski., Laboratoire </span><span\\n style=3D\"font-family: &quot;Calibri&quot;,&quot;sans-serif&quot;;\">LSIIT, =\\nStrasbourg<o:p></o:p><br>\\nBrigitte\\nTrousse, </span><span style=3D\"font-family: &quot;Calibri&quot;,&quot;sans-=\\nserif&quot;;\">Centre\\nde Recherche INRIA Sophia Antipolis &#8211; M=E9diterran=E9e <span style=3D=\\n\"\">=A0</span>(EPI\\nAxis)</span><span style=3D\"font-family: &quot;Calibri&quot;,&quot;sans-seri=\\nf&quot;;\"><o:p></o:p></span></p>\\n<p class=3D\"MsoNormal\" style=3D\"text-align: justify;\"><span\\n style=3D\"font-family: &quot;Calibri&quot;,&quot;sans-serif&quot;;\"><o:p>=\\n=A0</o:p></span><b\\n style=3D\"\"><span style=3D\"font-family: &quot;Calibri&quot;,&quot;sans-seri=\\nf&quot;;\">Le comit=E9\\nde lecture\\nest en cours de constitution.<o:p></o:p></span></b></p>\\n<p class=3D\"MsoNormal\" style=3D\"text-align: justify;\"><b style=3D\"\"><i><span\\n style=3D\"font-family: &quot;Calibri&quot;,&quot;sans-serif&quot;;\"><o:p>=\\n=A0</o:p></span></i></b></p>\\n<p class=3D\"MsoNormal\" style=3D\"text-align: justify;\"><b style=3D\"\"><i><span\\n style=3D\"font-family: &quot;Calibri&quot;,&quot;sans-serif&quot;;\"><o:p>=\\n=A0</o:p>Modalit=E9s de\\nsoumission<o:p></o:p></span></i></b></p>\\n<p class=3D\"MsoNormal\" style=3D\"text-align: justify;\"><span\\n style=3D\"font-family: &quot;Calibri&quot;,&quot;sans-serif&quot;;\"><o:p>=\\n=A0</o:p>Le\\nformat est disponible =E0 l\\'adresse=A0: <a\\n href=3D\"http://www.antsearch.univ-tours.fr/rnti\">http://www.antsearch.univ=\\n-tours.fr/rnti</a>.\\n<span style=3D\"\">=A0</span>Le papier peut-=EAtre r=E9dig=E9 en fran=E7ais\\nou en anglais (20 =E0 25 pages). Une d=E9claration d\\'intention avec un\\nr=E9sum=E9 d&#8217;une\\npage sous forme =E9lectronique est =E0 envoyer =E0<span style=3D\"\">=A0\\n</span><span style=3D\"color: rgb(255, 51, 102);\"><a\\n href=3D\"mailto:fdc-rnti@lsiit.u-strasbg.fr?subject=3DIntention%20de%20Soum=\\nission%20RNTI%20Fouille%20de%20Donn%C3%A9es\">fdc-rnti@lsiit.u-strasbg.fr</a=\\n></span>\\navant le 7<b> juillet 2008.<span style=3D\"\">=A0 </span><span style=3D\"\">=A0=\\n</span></b><o:p></o:p></span></p>\\n<p class=3D\"MsoNormal\" style=3D\"text-align: justify;\"><span\\n style=3D\"font-family: &quot;Calibri&quot;,&quot;sans-serif&quot;; color: r=\\ngb(255, 51, 102);\"><font\\n color=3D\"#000000\"><o:p>=A0</o:p>Les\\nsoumissions d&#8217;article sont =E0 envoyer sous forme =E9lectronique\\nexclusivement =E0 </font>: =A0 <span style=3D\"color: rgb(255, 51, 102);\"></=\\nspan><a\\n href=3D\"mailto:fdc-rnti@lsiit.u-strasbg.fr?subject=3DSoumission%20RNTI%20F=\\nouille%20de%20Donn%C3%A9es\">fdc-rnti@lsiit.u-strasbg.fr</a></span><span\\n style=3D\"font-family: &quot;Calibri&quot;,&quot;sans-serif&quot;;\"><o:p></=\\no:p></span></p>\\n<p class=3D\"MsoNormal\" style=3D\"text-align: justify;\"><span\\n style=3D\"font-family: &quot;Calibri&quot;,&quot;sans-serif&quot;;\"><o:p>=\\n=A0<br>\\n</o:p></span><b style=3D\"\"><span\\n style=3D\"font-family: &quot;Calibri&quot;,&quot;sans-serif&quot;;\">La date=\\n limite de\\nsoumission est le=A0<span style=3D\"\"> </span><font color=3D\"#ff0000\">14\\njuillet 2O08<br>\\n</font></span></b></p>\\n<p class=3D\"MsoNormal\" style=3D\"text-align: justify;\"><br>\\nB. Trousse, P Gan=E7arski, O. Boussaid<br>\\n<b style=3D\"\"><span style=3D\"font-family: &quot;Calibri&quot;,&quot;sans-se=\\nrif&quot;;\"><o:p></o:p></span></b></p>\\n<p class=3D\"MsoNormal\" style=3D\"text-align: justify;\"><b style=3D\"\"><span\\n style=3D\"font-family: &quot;Calibri&quot;,&quot;sans-serif&quot;;\"><span s=\\ntyle=3D\"\">=A0=A0=A0=A0=A0=A0=A0=A0=A0=A0=A0=A0=A0=A0=A0=A0=A0=A0=A0=A0=A0=\\n=A0=A0=A0=A0=A0=A0=A0=A0=A0=A0=A0=A0=A0=A0=A0=A0=A0=A0=A0=A0=A0=A0=A0=A0=A0=\\n=A0=A0=A0=A0=A0=A0=A0=A0=A0=A0=A0=A0=A0=A0=A0=A0=A0=A0=A0=A0=A0=A0=A0=A0=A0=\\n=A0=A0=A0=A0=A0=A0=A0=A0=A0=A0=A0=A0=A0=A0=A0=A0=A0=A0=A0=A0=A0=A0=A0=A0=A0\\n</span><o:p></o:p></span></b></p>\\n<p class=3D\"MsoNormal\" style=3D\"text-align: justify;\"><b style=3D\"\"><span\\n style=3D\"font-family: &quot;Calibri&quot;,&quot;sans-serif&quot;;\"><o:p>=\\n=A0</o:p></span></b></p>\\n<br>\\n<br>\\n</body>\\n</html>\\n\\n--------------020605030909000102060606--\\n\\n'"
      ]
     },
     "execution_count": 74,
     "metadata": {},
     "output_type": "execute_result"
    }
   ],
   "source": [
    "path = email_paths[5]\n",
    "with open(path, \"r\", encoding = \"ISO-8859-1\") as mail:\n",
    "       mail = mail.read()"
   ]
  },
  {
   "cell_type": "code",
   "execution_count": null,
   "metadata": {},
   "outputs": [],
   "source": [
    "substring = part.get_payload(decode=True)[787:787 + 10]\n",
    "substring"
   ]
  },
  {
   "cell_type": "markdown",
   "metadata": {},
   "source": [
    "# Pre-traitement"
   ]
  },
  {
   "cell_type": "markdown",
   "metadata": {},
   "source": [
    "Lecture de tous les mails"
   ]
  },
  {
   "cell_type": "code",
   "execution_count": 5,
   "metadata": {},
   "outputs": [
    {
     "data": {
      "text/plain": [
       "10819"
      ]
     },
     "execution_count": 5,
     "metadata": {},
     "output_type": "execute_result"
    }
   ],
   "source": [
    "mails = []\n",
    "for path in email_paths:\n",
    "    msg = get_email(path)\n",
    "    msg = email.message_from_string(msg)\n",
    "    for part in msg.walk():\n",
    "        payload = part.get_payload(decode=True)\n",
    "        if payload is None:\n",
    "            continue\n",
    "        try:\n",
    "            body = payload.decode().decode(part.get_content_charset()) # catch any decoding error to decode in ISO-8859-1\n",
    "        except:\n",
    "            body = payload.decode(\"ISO-8859-1\")\n",
    "            # print(path)\n",
    "            break # to avoid only getting the last body of a mail. Il peut y avoir du html a la fin donc on prend just ele premier body qui est du texte\n",
    "    mails.append(body)\n",
    "len(mails)"
   ]
  },
  {
   "cell_type": "markdown",
   "metadata": {},
   "source": [
    "# Mails multilangues"
   ]
  },
  {
   "cell_type": "code",
   "execution_count": 7,
   "metadata": {},
   "outputs": [
    {
     "name": "stdout",
     "output_type": "stream",
     "text": [
      "Bonjour à tous,\n",
      "\n",
      "Le 23 Mai 2008 une journée nationale sur l'apprentissage aura lieu à \n",
      "Paris :\n",
      "\n",
      "Apprentissage Artificiel : la carte, le territoire et l'horizon.\n",
      "                 en l'honneur d'Yves Kodratoff\n",
      "\n",
      "La matinée illustrera les nombreuses applications de l'apprentissage\n",
      "ayant émergé dans les dernières années, au travers d'exposés courts\n",
      "présentés par des experts académiques ou industriels.\n",
      "\n",
      "L'après midi offrira plusieurs perspectives sur les priorités de la\n",
      "prochaine décennie, avec les exposés invités de Gheorghe Tecuci\n",
      "(George Mason University), Attilio Giordana (U. d'Alessandria), et\n",
      "Stefan Wrobel (Fraunhofer Institute) - situées par rapport aux\n",
      "priorités des années 90.\n",
      "\n",
      "L'après midi continuera par un débat, discutant les référents en pleine \n",
      "évolution de l'apprentissage : logique, sciences cognitives,\n",
      "statistiques, et optimisation.\n",
      "\n",
      "La journée se finira par un cocktail, qui nous sera une occasion \n",
      "chaleureuse de lever nos verres en l'honneur d'Yves Kodratoff - avec \n",
      "notre reconnaissance d'avoir introduit l'apprentissage en France, et \n",
      "l'apprentissage francais au niveau international.\n",
      "\n",
      "------\n",
      "\n",
      "Lieu : AgroParisTech, 6 rue Claude Bernard, Paris 5°, M° Censier-Daubenton.\n",
      "\n",
      "Organisation : Association Francaise pour l'Intelligence Artificielle\n",
      "\n",
      "Inscription : - Adhérent de l'AFIA : Libre (s'inscrire pour faciliter \n",
      "l'organisation)\n",
      "- Autre :\n",
      "     Etudiant : 30 euros\n",
      "     Autre :    50 euros\n",
      "\n",
      "-------\n",
      "Merci d'avoir lu jusqu'ici :-)\n",
      "\n",
      "-- \n",
      "D.A. ZIGHED, Professeur\n",
      "Directeur,\n",
      "Laboratoire ERIC\n",
      "Université Lumière Lyon 2\n",
      "5 av. Pierre Mendès-France\n",
      "69600 Bron\n",
      "Tél. : +33(0)4 78 77 23 76\n",
      "Fax. : +33(0)4 78 77 23 75\n",
      "GSM  : +33(0)6 01 95 67 71\n",
      "Web  : http://eric.univ-lyon2.fr/~zighed\n",
      "\n",
      "\n",
      "\n"
     ]
    }
   ],
   "source": [
    "print(mails[0])"
   ]
  },
  {
   "cell_type": "code",
   "execution_count": 11,
   "metadata": {},
   "outputs": [
    {
     "data": {
      "text/plain": [
       "str"
      ]
     },
     "execution_count": 11,
     "metadata": {},
     "output_type": "execute_result"
    }
   ],
   "source": [
    "type(mails[0])"
   ]
  },
  {
   "cell_type": "code",
   "execution_count": 13,
   "metadata": {},
   "outputs": [
    {
     "ename": "LangDetectException",
     "evalue": "No features in text.",
     "output_type": "error",
     "traceback": [
      "\u001b[0;31m---------------------------------------------------------------------------\u001b[0m",
      "\u001b[0;31mLangDetectException\u001b[0m                       Traceback (most recent call last)",
      "Cell \u001b[0;32mIn[13], line 26\u001b[0m\n\u001b[1;32m     22\u001b[0m     \u001b[38;5;28;01mreturn\u001b[39;00m language_sections\n\u001b[1;32m     24\u001b[0m text \u001b[38;5;241m=\u001b[39m mails[\u001b[38;5;241m0\u001b[39m]\n\u001b[0;32m---> 26\u001b[0m language_sections \u001b[38;5;241m=\u001b[39m \u001b[43msplit_text_by_language\u001b[49m\u001b[43m(\u001b[49m\u001b[43mtext\u001b[49m\u001b[43m)\u001b[49m\n\u001b[1;32m     28\u001b[0m \u001b[38;5;28;01mfor\u001b[39;00m language, paragraphs \u001b[38;5;129;01min\u001b[39;00m language_sections\u001b[38;5;241m.\u001b[39mitems():\n\u001b[1;32m     29\u001b[0m     \u001b[38;5;28mprint\u001b[39m(\u001b[38;5;124mf\u001b[39m\u001b[38;5;124m\"\u001b[39m\u001b[38;5;124mLanguage: \u001b[39m\u001b[38;5;132;01m{\u001b[39;00mlanguage\u001b[38;5;132;01m}\u001b[39;00m\u001b[38;5;124m\"\u001b[39m)\n",
      "Cell \u001b[0;32mIn[13], line 10\u001b[0m, in \u001b[0;36msplit_text_by_language\u001b[0;34m(text)\u001b[0m\n\u001b[1;32m      5\u001b[0m language_sections \u001b[38;5;241m=\u001b[39m {\u001b[38;5;124m'\u001b[39m\u001b[38;5;124munknown\u001b[39m\u001b[38;5;124m'\u001b[39m: []}\n\u001b[1;32m      7\u001b[0m \u001b[38;5;28;01mfor\u001b[39;00m paragraph \u001b[38;5;129;01min\u001b[39;00m paragraphs:\n\u001b[1;32m      8\u001b[0m     \n\u001b[1;32m      9\u001b[0m     \u001b[38;5;66;03m# Detect language for each paragraph\u001b[39;00m\n\u001b[0;32m---> 10\u001b[0m     language_probabilities \u001b[38;5;241m=\u001b[39m \u001b[43mdetect_langs\u001b[49m\u001b[43m(\u001b[49m\u001b[43mparagraph\u001b[49m\u001b[43m)\u001b[49m\n\u001b[1;32m     12\u001b[0m     \u001b[38;5;66;03m# Get the most probable language\u001b[39;00m\n\u001b[1;32m     13\u001b[0m     most_probable_language \u001b[38;5;241m=\u001b[39m \u001b[38;5;28mmax\u001b[39m(language_probabilities, key\u001b[38;5;241m=\u001b[39m\u001b[38;5;28;01mlambda\u001b[39;00m x: x\u001b[38;5;241m.\u001b[39mprob)\n",
      "File \u001b[0;32m~/opt/anaconda3/envs/tf/lib/python3.8/site-packages/langdetect/detector_factory.py:137\u001b[0m, in \u001b[0;36mdetect_langs\u001b[0;34m(text)\u001b[0m\n\u001b[1;32m    135\u001b[0m detector \u001b[38;5;241m=\u001b[39m _factory\u001b[38;5;241m.\u001b[39mcreate()\n\u001b[1;32m    136\u001b[0m detector\u001b[38;5;241m.\u001b[39mappend(text)\n\u001b[0;32m--> 137\u001b[0m \u001b[38;5;28;01mreturn\u001b[39;00m \u001b[43mdetector\u001b[49m\u001b[38;5;241;43m.\u001b[39;49m\u001b[43mget_probabilities\u001b[49m\u001b[43m(\u001b[49m\u001b[43m)\u001b[49m\n",
      "File \u001b[0;32m~/opt/anaconda3/envs/tf/lib/python3.8/site-packages/langdetect/detector.py:143\u001b[0m, in \u001b[0;36mDetector.get_probabilities\u001b[0;34m(self)\u001b[0m\n\u001b[1;32m    141\u001b[0m \u001b[38;5;28;01mdef\u001b[39;00m \u001b[38;5;21mget_probabilities\u001b[39m(\u001b[38;5;28mself\u001b[39m):\n\u001b[1;32m    142\u001b[0m     \u001b[38;5;28;01mif\u001b[39;00m \u001b[38;5;28mself\u001b[39m\u001b[38;5;241m.\u001b[39mlangprob \u001b[38;5;129;01mis\u001b[39;00m \u001b[38;5;28;01mNone\u001b[39;00m:\n\u001b[0;32m--> 143\u001b[0m         \u001b[38;5;28;43mself\u001b[39;49m\u001b[38;5;241;43m.\u001b[39;49m\u001b[43m_detect_block\u001b[49m\u001b[43m(\u001b[49m\u001b[43m)\u001b[49m\n\u001b[1;32m    144\u001b[0m     \u001b[38;5;28;01mreturn\u001b[39;00m \u001b[38;5;28mself\u001b[39m\u001b[38;5;241m.\u001b[39m_sort_probability(\u001b[38;5;28mself\u001b[39m\u001b[38;5;241m.\u001b[39mlangprob)\n",
      "File \u001b[0;32m~/opt/anaconda3/envs/tf/lib/python3.8/site-packages/langdetect/detector.py:150\u001b[0m, in \u001b[0;36mDetector._detect_block\u001b[0;34m(self)\u001b[0m\n\u001b[1;32m    148\u001b[0m ngrams \u001b[38;5;241m=\u001b[39m \u001b[38;5;28mself\u001b[39m\u001b[38;5;241m.\u001b[39m_extract_ngrams()\n\u001b[1;32m    149\u001b[0m \u001b[38;5;28;01mif\u001b[39;00m \u001b[38;5;129;01mnot\u001b[39;00m ngrams:\n\u001b[0;32m--> 150\u001b[0m     \u001b[38;5;28;01mraise\u001b[39;00m LangDetectException(ErrorCode\u001b[38;5;241m.\u001b[39mCantDetectError, \u001b[38;5;124m'\u001b[39m\u001b[38;5;124mNo features in text.\u001b[39m\u001b[38;5;124m'\u001b[39m)\n\u001b[1;32m    152\u001b[0m \u001b[38;5;28mself\u001b[39m\u001b[38;5;241m.\u001b[39mlangprob \u001b[38;5;241m=\u001b[39m [\u001b[38;5;241m0.0\u001b[39m] \u001b[38;5;241m*\u001b[39m \u001b[38;5;28mlen\u001b[39m(\u001b[38;5;28mself\u001b[39m\u001b[38;5;241m.\u001b[39mlanglist)\n\u001b[1;32m    154\u001b[0m \u001b[38;5;28mself\u001b[39m\u001b[38;5;241m.\u001b[39mrandom\u001b[38;5;241m.\u001b[39mseed(\u001b[38;5;28mself\u001b[39m\u001b[38;5;241m.\u001b[39mseed)\n",
      "\u001b[0;31mLangDetectException\u001b[0m: No features in text."
     ]
    }
   ],
   "source": [
    "from langdetect import detect_langs\n",
    "\n",
    "def split_text_by_language(text):\n",
    "    paragraphs = text.split(\"\\n\\n\")  # Split text into paragraphs\n",
    "    language_sections = {'unknown': []}\n",
    "\n",
    "    for paragraph in paragraphs:\n",
    "        \n",
    "        # Detect language for each paragraph\n",
    "        language_probabilities = detect_langs(paragraph)\n",
    "        \n",
    "        # Get the most probable language\n",
    "        most_probable_language = max(language_probabilities, key=lambda x: x.prob)\n",
    "        \n",
    "        # Group paragraphs by language\n",
    "        language_code = most_probable_language.lang\n",
    "        \n",
    "        if language_code not in language_sections:\n",
    "            language_sections[language_code] = []\n",
    "        language_sections[language_code].append(paragraph)\n",
    "\n",
    "    return language_sections\n",
    "\n",
    "text = mails[0]\n",
    "\n",
    "language_sections = split_text_by_language(text)\n",
    "\n",
    "for language, paragraphs in language_sections.items():\n",
    "    print(f\"Language: {language}\")\n",
    "    print(\"\\n\".join(paragraphs))\n",
    "    print(\"---------\")\n"
   ]
  },
  {
   "cell_type": "code",
   "execution_count": 12,
   "metadata": {},
   "outputs": [
    {
     "ename": "LangDetectException",
     "evalue": "No features in text.",
     "output_type": "error",
     "traceback": [
      "\u001b[0;31m---------------------------------------------------------------------------\u001b[0m",
      "\u001b[0;31mLangDetectException\u001b[0m                       Traceback (most recent call last)",
      "Cell \u001b[0;32mIn[12], line 22\u001b[0m\n\u001b[1;32m     18\u001b[0m     \u001b[38;5;28;01mreturn\u001b[39;00m language_sections\n\u001b[1;32m     20\u001b[0m text \u001b[38;5;241m=\u001b[39m mails[\u001b[38;5;241m0\u001b[39m]\n\u001b[0;32m---> 22\u001b[0m language_sections \u001b[38;5;241m=\u001b[39m \u001b[43msplit_text_by_language\u001b[49m\u001b[43m(\u001b[49m\u001b[43mtext\u001b[49m\u001b[43m)\u001b[49m\n\u001b[1;32m     24\u001b[0m \u001b[38;5;28;01mfor\u001b[39;00m language, paragraphs \u001b[38;5;129;01min\u001b[39;00m language_sections\u001b[38;5;241m.\u001b[39mitems():\n\u001b[1;32m     25\u001b[0m     \u001b[38;5;28mprint\u001b[39m(\u001b[38;5;124mf\u001b[39m\u001b[38;5;124m\"\u001b[39m\u001b[38;5;124mLanguage: \u001b[39m\u001b[38;5;132;01m{\u001b[39;00mlanguage\u001b[38;5;132;01m}\u001b[39;00m\u001b[38;5;124m\"\u001b[39m)\n",
      "Cell \u001b[0;32mIn[12], line 9\u001b[0m, in \u001b[0;36msplit_text_by_language\u001b[0;34m(text)\u001b[0m\n\u001b[1;32m      5\u001b[0m language_sections \u001b[38;5;241m=\u001b[39m {\u001b[38;5;124m'\u001b[39m\u001b[38;5;124munknown\u001b[39m\u001b[38;5;124m'\u001b[39m: []}\n\u001b[1;32m      7\u001b[0m \u001b[38;5;28;01mfor\u001b[39;00m paragraph \u001b[38;5;129;01min\u001b[39;00m paragraphs:\n\u001b[1;32m      8\u001b[0m     \u001b[38;5;66;03m# Detect language for each paragraph\u001b[39;00m\n\u001b[0;32m----> 9\u001b[0m     language_probabilities \u001b[38;5;241m=\u001b[39m \u001b[43mdetect_langs\u001b[49m\u001b[43m(\u001b[49m\u001b[43mparagraph\u001b[49m\u001b[43m)\u001b[49m\n\u001b[1;32m     10\u001b[0m     \u001b[38;5;66;03m# Get the most probable language\u001b[39;00m\n\u001b[1;32m     11\u001b[0m     most_probable_language \u001b[38;5;241m=\u001b[39m \u001b[38;5;28mmax\u001b[39m(language_probabilities, key\u001b[38;5;241m=\u001b[39m\u001b[38;5;28;01mlambda\u001b[39;00m x: x\u001b[38;5;241m.\u001b[39mprob)\n",
      "File \u001b[0;32m~/opt/anaconda3/envs/tf/lib/python3.8/site-packages/langdetect/detector_factory.py:137\u001b[0m, in \u001b[0;36mdetect_langs\u001b[0;34m(text)\u001b[0m\n\u001b[1;32m    135\u001b[0m detector \u001b[38;5;241m=\u001b[39m _factory\u001b[38;5;241m.\u001b[39mcreate()\n\u001b[1;32m    136\u001b[0m detector\u001b[38;5;241m.\u001b[39mappend(text)\n\u001b[0;32m--> 137\u001b[0m \u001b[38;5;28;01mreturn\u001b[39;00m \u001b[43mdetector\u001b[49m\u001b[38;5;241;43m.\u001b[39;49m\u001b[43mget_probabilities\u001b[49m\u001b[43m(\u001b[49m\u001b[43m)\u001b[49m\n",
      "File \u001b[0;32m~/opt/anaconda3/envs/tf/lib/python3.8/site-packages/langdetect/detector.py:143\u001b[0m, in \u001b[0;36mDetector.get_probabilities\u001b[0;34m(self)\u001b[0m\n\u001b[1;32m    141\u001b[0m \u001b[38;5;28;01mdef\u001b[39;00m \u001b[38;5;21mget_probabilities\u001b[39m(\u001b[38;5;28mself\u001b[39m):\n\u001b[1;32m    142\u001b[0m     \u001b[38;5;28;01mif\u001b[39;00m \u001b[38;5;28mself\u001b[39m\u001b[38;5;241m.\u001b[39mlangprob \u001b[38;5;129;01mis\u001b[39;00m \u001b[38;5;28;01mNone\u001b[39;00m:\n\u001b[0;32m--> 143\u001b[0m         \u001b[38;5;28;43mself\u001b[39;49m\u001b[38;5;241;43m.\u001b[39;49m\u001b[43m_detect_block\u001b[49m\u001b[43m(\u001b[49m\u001b[43m)\u001b[49m\n\u001b[1;32m    144\u001b[0m     \u001b[38;5;28;01mreturn\u001b[39;00m \u001b[38;5;28mself\u001b[39m\u001b[38;5;241m.\u001b[39m_sort_probability(\u001b[38;5;28mself\u001b[39m\u001b[38;5;241m.\u001b[39mlangprob)\n",
      "File \u001b[0;32m~/opt/anaconda3/envs/tf/lib/python3.8/site-packages/langdetect/detector.py:150\u001b[0m, in \u001b[0;36mDetector._detect_block\u001b[0;34m(self)\u001b[0m\n\u001b[1;32m    148\u001b[0m ngrams \u001b[38;5;241m=\u001b[39m \u001b[38;5;28mself\u001b[39m\u001b[38;5;241m.\u001b[39m_extract_ngrams()\n\u001b[1;32m    149\u001b[0m \u001b[38;5;28;01mif\u001b[39;00m \u001b[38;5;129;01mnot\u001b[39;00m ngrams:\n\u001b[0;32m--> 150\u001b[0m     \u001b[38;5;28;01mraise\u001b[39;00m LangDetectException(ErrorCode\u001b[38;5;241m.\u001b[39mCantDetectError, \u001b[38;5;124m'\u001b[39m\u001b[38;5;124mNo features in text.\u001b[39m\u001b[38;5;124m'\u001b[39m)\n\u001b[1;32m    152\u001b[0m \u001b[38;5;28mself\u001b[39m\u001b[38;5;241m.\u001b[39mlangprob \u001b[38;5;241m=\u001b[39m [\u001b[38;5;241m0.0\u001b[39m] \u001b[38;5;241m*\u001b[39m \u001b[38;5;28mlen\u001b[39m(\u001b[38;5;28mself\u001b[39m\u001b[38;5;241m.\u001b[39mlanglist)\n\u001b[1;32m    154\u001b[0m \u001b[38;5;28mself\u001b[39m\u001b[38;5;241m.\u001b[39mrandom\u001b[38;5;241m.\u001b[39mseed(\u001b[38;5;28mself\u001b[39m\u001b[38;5;241m.\u001b[39mseed)\n",
      "\u001b[0;31mLangDetectException\u001b[0m: No features in text."
     ]
    }
   ],
   "source": [
    "from langdetect import detect_langs\n",
    "\n",
    "def split_text_by_language(text):\n",
    "    paragraphs = text.split(\"\\n\\n\")  # Split text into paragraphs\n",
    "    language_sections = {'unknown': []}\n",
    "\n",
    "    for paragraph in paragraphs:\n",
    "        \n",
    "        # Detect language for each paragraph\n",
    "        language_probabilities = detect_langs(paragraph)\n",
    "        \n",
    "        # Get the most probable language\n",
    "        most_probable_language = max(language_probabilities, key=lambda x: x.prob)\n",
    "        \n",
    "        # Group paragraphs by language\n",
    "        language_code = most_probable_language.lang\n",
    "        \n",
    "        if language_code not in language_sections:\n",
    "            language_sections[language_code] = []\n",
    "        language_sections[language_code].append(paragraph)\n",
    "\n",
    "    return language_sections\n",
    "\n",
    "text = \"\"\"\n",
    "Bonjour! Hello!\n",
    "Comment ça va? I'm fine, thank you.\n",
    "Et toi?\n",
    "\n",
    "This is an example of English text.\n",
    "Here is another sentence.\n",
    "\n",
    "Ceci est un exemple de texte en français.\n",
    "Et voici une autre phrase.\n",
    "\"\"\"\n",
    "\n",
    "language_sections = split_text_by_language(text)\n",
    "\n",
    "for language, paragraphs in language_sections.items():\n",
    "    print(f\"Language: {language}\")\n",
    "    print(\"\\n\".join(paragraphs))\n",
    "    print(\"---------\")\n"
   ]
  },
  {
   "cell_type": "markdown",
   "metadata": {},
   "source": [
    "# Creation des Embeddings"
   ]
  },
  {
   "cell_type": "code",
   "execution_count": 80,
   "metadata": {},
   "outputs": [],
   "source": [
    "preprocess_url = \"https://tfhub.dev/tensorflow/bert_en_uncased_preprocess/3\"\n",
    "encoder_url = \"https://tfhub.dev/tensorflow/bert_en_uncased_L-12_H-768_A-12/4\""
   ]
  },
  {
   "cell_type": "code",
   "execution_count": 81,
   "metadata": {},
   "outputs": [
    {
     "ename": "NameError",
     "evalue": "name 'hub' is not defined",
     "output_type": "error",
     "traceback": [
      "\u001b[0;31m---------------------------------------------------------------------------\u001b[0m",
      "\u001b[0;31mNameError\u001b[0m                                 Traceback (most recent call last)",
      "Cell \u001b[0;32mIn[81], line 1\u001b[0m\n\u001b[0;32m----> 1\u001b[0m bert_preprocess_model \u001b[38;5;241m=\u001b[39m \u001b[43mhub\u001b[49m\u001b[38;5;241m.\u001b[39mKerasLayer(preprocess_url)\n",
      "\u001b[0;31mNameError\u001b[0m: name 'hub' is not defined"
     ]
    }
   ],
   "source": [
    "bert_preprocess_model = hub.KerasLayer(preprocess_url)"
   ]
  },
  {
   "cell_type": "code",
   "execution_count": null,
   "metadata": {},
   "outputs": [],
   "source": [
    "text_test = ['Il est vers la porte', 'Je marche vers lui', 'Ce vers est lent']\n",
    "text_preprocessed = bert_preprocess_model(text_test)\n",
    "text_preprocessed.keys()"
   ]
  },
  {
   "cell_type": "code",
   "execution_count": null,
   "metadata": {},
   "outputs": [],
   "source": [
    "bert_model = hub.KerasLayer(encoder_url)\n",
    "bert_results = bert_model(text_preprocessed)\n",
    "bert_results.keys()"
   ]
  },
  {
   "cell_type": "markdown",
   "metadata": {},
   "source": [
    "# Recupération vecteurs les plus proches"
   ]
  },
  {
   "cell_type": "code",
   "execution_count": null,
   "metadata": {},
   "outputs": [],
   "source": []
  },
  {
   "cell_type": "markdown",
   "metadata": {},
   "source": [
    "# Classification"
   ]
  },
  {
   "cell_type": "code",
   "execution_count": null,
   "metadata": {},
   "outputs": [],
   "source": []
  }
 ],
 "metadata": {
  "kernelspec": {
   "display_name": "TP",
   "language": "python",
   "name": "python3"
  },
  "language_info": {
   "codemirror_mode": {
    "name": "ipython",
    "version": 3
   },
   "file_extension": ".py",
   "mimetype": "text/x-python",
   "name": "python",
   "nbconvert_exporter": "python",
   "pygments_lexer": "ipython3",
   "version": "3.8.18"
  },
  "orig_nbformat": 4
 },
 "nbformat": 4,
 "nbformat_minor": 2
}
